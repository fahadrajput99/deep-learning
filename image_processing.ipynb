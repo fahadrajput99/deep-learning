{
  "nbformat": 4,
  "nbformat_minor": 0,
  "metadata": {
    "colab": {
      "provenance": [],
      "gpuType": "T4",
      "authorship_tag": "ABX9TyMXLkzsxV1I+YKNE2V9t1Hy",
      "include_colab_link": true
    },
    "kernelspec": {
      "name": "python3",
      "display_name": "Python 3"
    },
    "language_info": {
      "name": "python"
    },
    "accelerator": "GPU"
  },
  "cells": [
    {
      "cell_type": "markdown",
      "metadata": {
        "id": "view-in-github",
        "colab_type": "text"
      },
      "source": [
        "<a href=\"https://colab.research.google.com/github/fahadrajput99/deep-learning/blob/main/image_processing.ipynb\" target=\"_parent\"><img src=\"https://colab.research.google.com/assets/colab-badge.svg\" alt=\"Open In Colab\"/></a>"
      ]
    },
    {
      "cell_type": "code",
      "execution_count": 3,
      "metadata": {
        "id": "ZCyguolgMEQK"
      },
      "outputs": [],
      "source": [
        "import tensorflow as tf\n",
        "from tensorflow import keras\n",
        "import pandas as pd\n",
        "import matplotlib.pyplot as plt"
      ]
    },
    {
      "cell_type": "code",
      "source": [
        "import sys\n",
        "print(sys.version)\n"
      ],
      "metadata": {
        "colab": {
          "base_uri": "https://localhost:8080/"
        },
        "id": "y2kR2OGdNdzg",
        "outputId": "0253ec36-674b-45f4-e69a-a4ccf5edc3db"
      },
      "execution_count": 4,
      "outputs": [
        {
          "output_type": "stream",
          "name": "stdout",
          "text": [
            "3.10.12 (main, Nov 20 2023, 15:14:05) [GCC 11.4.0]\n"
          ]
        }
      ]
    },
    {
      "cell_type": "code",
      "source": [
        "tf.config.experimental.list_physical_devices()"
      ],
      "metadata": {
        "colab": {
          "base_uri": "https://localhost:8080/"
        },
        "id": "NIcdqKcjMdGf",
        "outputId": "a0298b17-e7f1-43a3-bd8a-f19e901b2f35"
      },
      "execution_count": 5,
      "outputs": [
        {
          "output_type": "execute_result",
          "data": {
            "text/plain": [
              "[PhysicalDevice(name='/physical_device:CPU:0', device_type='CPU'),\n",
              " PhysicalDevice(name='/physical_device:GPU:0', device_type='GPU')]"
            ]
          },
          "metadata": {},
          "execution_count": 5
        }
      ]
    },
    {
      "cell_type": "code",
      "source": [
        "tf.test.is_built_with_cuda()"
      ],
      "metadata": {
        "colab": {
          "base_uri": "https://localhost:8080/"
        },
        "id": "X8xWvUjdMqi2",
        "outputId": "97a53a47-96a8-4b5e-9f8d-4adfc43aed48"
      },
      "execution_count": 6,
      "outputs": [
        {
          "output_type": "execute_result",
          "data": {
            "text/plain": [
              "True"
            ]
          },
          "metadata": {},
          "execution_count": 6
        }
      ]
    },
    {
      "cell_type": "code",
      "source": [
        "(x_train , y_train) , (x_test , y_test) = tf.keras.datasets.cifar10.load_data()"
      ],
      "metadata": {
        "colab": {
          "base_uri": "https://localhost:8080/"
        },
        "id": "nH90ith1NPER",
        "outputId": "fc6ee84f-7777-4325-8442-1d232a3acdc9"
      },
      "execution_count": 7,
      "outputs": [
        {
          "output_type": "stream",
          "name": "stdout",
          "text": [
            "Downloading data from https://www.cs.toronto.edu/~kriz/cifar-10-python.tar.gz\n",
            "170498071/170498071 [==============================] - 4s 0us/step\n"
          ]
        }
      ]
    },
    {
      "cell_type": "code",
      "source": [
        "x_train.shape"
      ],
      "metadata": {
        "colab": {
          "base_uri": "https://localhost:8080/"
        },
        "id": "7fjeYasjPYq4",
        "outputId": "f368b4e8-7956-4b70-cf46-2e2bac2ea27e"
      },
      "execution_count": 8,
      "outputs": [
        {
          "output_type": "execute_result",
          "data": {
            "text/plain": [
              "(50000, 32, 32, 3)"
            ]
          },
          "metadata": {},
          "execution_count": 8
        }
      ]
    },
    {
      "cell_type": "code",
      "source": [
        "y_train[0:5]"
      ],
      "metadata": {
        "colab": {
          "base_uri": "https://localhost:8080/"
        },
        "id": "LBugGGpbPbuX",
        "outputId": "f12f2e54-587a-430f-9188-5e7bbb9effe7"
      },
      "execution_count": 9,
      "outputs": [
        {
          "output_type": "execute_result",
          "data": {
            "text/plain": [
              "array([[6],\n",
              "       [9],\n",
              "       [9],\n",
              "       [4],\n",
              "       [1]], dtype=uint8)"
            ]
          },
          "metadata": {},
          "execution_count": 9
        }
      ]
    },
    {
      "cell_type": "code",
      "source": [
        "def plot_sample(index):\n",
        "  plt.figure(figsize=(10,1))\n",
        "  plt.imshow(x_train[index])"
      ],
      "metadata": {
        "id": "Z7Upu4nrPuOK"
      },
      "execution_count": 10,
      "outputs": []
    },
    {
      "cell_type": "code",
      "source": [
        "plot_sample(1)"
      ],
      "metadata": {
        "colab": {
          "base_uri": "https://localhost:8080/",
          "height": 142
        },
        "id": "otnR6nncQTfm",
        "outputId": "e4a9b557-7743-4c8e-cda1-e5b366b62bfb"
      },
      "execution_count": 11,
      "outputs": [
        {
          "output_type": "display_data",
          "data": {
            "text/plain": [
              "<Figure size 1000x100 with 1 Axes>"
            ],
            "image/png": "[encoded data removed]"
          },
          "metadata": {}
        }
      ]
    },
    {
      "cell_type": "code",
      "source": [
        "plot_sample(2)"
      ],
      "metadata": {
        "colab": {
          "base_uri": "https://localhost:8080/",
          "height": 142
        },
        "id": "IIRrA0s_QYVn",
        "outputId": "b199a911-8923-4ff6-ad77-e994ce6dcbef"
      },
      "execution_count": 12,
      "outputs": [
        {
          "output_type": "display_data",
          "data": {
            "text/plain": [
              "<Figure size 1000x100 with 1 Axes>"
            ],
            "image/png": "[encoded data removed]"
          },
          "metadata": {}
        }
      ]
    },
    {
      "cell_type": "code",
      "source": [
        "plot_sample(3)"
      ],
      "metadata": {
        "colab": {
          "base_uri": "https://localhost:8080/",
          "height": 142
        },
        "id": "elBZawX5Qp_m",
        "outputId": "e77089f8-f6d7-4dd9-df10-3e62684d7ccb"
      },
      "execution_count": 13,
      "outputs": [
        {
          "output_type": "display_data",
          "data": {
            "text/plain": [
              "<Figure size 1000x100 with 1 Axes>"
            ],
            "image/png": "[encoded data removed]"
          },
          "metadata": {}
        }
      ]
    },
    {
      "cell_type": "code",
      "source": [
        "plot_sample(4)"
      ],
      "metadata": {
        "colab": {
          "base_uri": "https://localhost:8080/",
          "height": 142
        },
        "id": "rHe0lvxPQuYj",
        "outputId": "e6e519e3-90c3-4cb2-af75-cc4a3e1694bb"
      },
      "execution_count": 14,
      "outputs": [
        {
          "output_type": "display_data",
          "data": {
            "text/plain": [
              "<Figure size 1000x100 with 1 Axes>"
            ],
            "image/png": "[encoded data removed]"
          },
          "metadata": {}
        }
      ]
    },
    {
      "cell_type": "code",
      "source": [
        "plot_sample(5)"
      ],
      "metadata": {
        "colab": {
          "base_uri": "https://localhost:8080/",
          "height": 142
        },
        "id": "mXtT2y6uRRJ7",
        "outputId": "debf29eb-e0b1-481a-a5ba-be58a8a33a96"
      },
      "execution_count": 15,
      "outputs": [
        {
          "output_type": "display_data",
          "data": {
            "text/plain": [
              "<Figure size 1000x100 with 1 Axes>"
            ],
            "image/png": "[encoded data removed]"
          },
          "metadata": {}
        }
      ]
    },
    {
      "cell_type": "code",
      "source": [
        "plot_sample(6)"
      ],
      "metadata": {
        "colab": {
          "base_uri": "https://localhost:8080/",
          "height": 142
        },
        "id": "gdbJzOXQRS5O",
        "outputId": "3522d396-c46f-4bda-dc65-24c8aa74b25b"
      },
      "execution_count": 16,
      "outputs": [
        {
          "output_type": "display_data",
          "data": {
            "text/plain": [
              "<Figure size 1000x100 with 1 Axes>"
            ],
            "image/png": "[encoded data removed]"
          },
          "metadata": {}
        }
      ]
    },
    {
      "cell_type": "code",
      "source": [
        "plot_sample(7)"
      ],
      "metadata": {
        "colab": {
          "base_uri": "https://localhost:8080/",
          "height": 142
        },
        "id": "F4Tct-YdRVL3",
        "outputId": "a7c1f29c-8311-4382-9094-a55fe8b7b84e"
      },
      "execution_count": 17,
      "outputs": [
        {
          "output_type": "display_data",
          "data": {
            "text/plain": [
              "<Figure size 1000x100 with 1 Axes>"
            ],
            "image/png": "[encoded data removed]"
          },
          "metadata": {}
        }
      ]
    },
    {
      "cell_type": "code",
      "source": [
        "plot_sample(8)"
      ],
      "metadata": {
        "colab": {
          "base_uri": "https://localhost:8080/",
          "height": 142
        },
        "id": "8oDNKsMURW8F",
        "outputId": "d6dddb87-8d85-4ca3-b8d7-43118e185f8d"
      },
      "execution_count": 18,
      "outputs": [
        {
          "output_type": "display_data",
          "data": {
            "text/plain": [
              "<Figure size 1000x100 with 1 Axes>"
            ],
            "image/png": "[encoded data removed]"
          },
          "metadata": {}
        }
      ]
    },
    {
      "cell_type": "code",
      "source": [
        "plot_sample(9)"
      ],
      "metadata": {
        "colab": {
          "base_uri": "https://localhost:8080/",
          "height": 142
        },
        "id": "SxXSKf6WRYjc",
        "outputId": "e7233b18-9305-48b2-fe49-30a294d3bb97"
      },
      "execution_count": 19,
      "outputs": [
        {
          "output_type": "display_data",
          "data": {
            "text/plain": [
              "<Figure size 1000x100 with 1 Axes>"
            ],
            "image/png": "[encoded data removed]"
          },
          "metadata": {}
        }
      ]
    },
    {
      "cell_type": "code",
      "source": [
        "classes=[\"truck\" , \"truck\" , \"deer\" , \"automobile\" , \"automobile\" , \"frog\" , \"horse\" , \"ship\" , \"cat\"]"
      ],
      "metadata": {
        "id": "2AmiapAVRaNP"
      },
      "execution_count": 20,
      "outputs": []
    },
    {
      "cell_type": "code",
      "source": [
        "y_train[3]"
      ],
      "metadata": {
        "colab": {
          "base_uri": "https://localhost:8080/"
        },
        "id": "eRV6wlTFSFOe",
        "outputId": "4e64a9f9-a16a-4d88-eaf4-10d65dba66c3"
      },
      "execution_count": 21,
      "outputs": [
        {
          "output_type": "execute_result",
          "data": {
            "text/plain": [
              "array([4], dtype=uint8)"
            ]
          },
          "metadata": {},
          "execution_count": 21
        }
      ]
    },
    {
      "cell_type": "code",
      "source": [
        "classes[y_train[6][0]]"
      ],
      "metadata": {
        "colab": {
          "base_uri": "https://localhost:8080/",
          "height": 35
        },
        "id": "q4dgFShZSJBs",
        "outputId": "a17bdd10-7104-4ec2-881f-e21461880de2"
      },
      "execution_count": 22,
      "outputs": [
        {
          "output_type": "execute_result",
          "data": {
            "text/plain": [
              "'deer'"
            ],
            "application/vnd.google.colaboratory.intrinsic+json": {
              "type": "string"
            }
          },
          "metadata": {},
          "execution_count": 22
        }
      ]
    },
    {
      "cell_type": "code",
      "source": [
        "x_train_scaled=x_train/255\n",
        "x_test_scaled=x_test/255"
      ],
      "metadata": {
        "id": "b9LRerRjSOHe"
      },
      "execution_count": 23,
      "outputs": []
    },
    {
      "cell_type": "code",
      "source": [
        "x_test_scaled"
      ],
      "metadata": {
        "colab": {
          "base_uri": "https://localhost:8080/"
        },
        "id": "1bqtVNXETRbr",
        "outputId": "3b8c541b-b7e2-4324-e2fd-7eadadf5d95f"
      },
      "execution_count": 24,
      "outputs": [
        {
          "output_type": "execute_result",
          "data": {
            "text/plain": [
              "array([[[[0.61960784, 0.43921569, 0.19215686],\n",
              "         [0.62352941, 0.43529412, 0.18431373],\n",
              "         [0.64705882, 0.45490196, 0.2       ],\n",
              "         ...,\n",
              "         [0.5372549 , 0.37254902, 0.14117647],\n",
              "         [0.49411765, 0.35686275, 0.14117647],\n",
              "         [0.45490196, 0.33333333, 0.12941176]],\n",
              "\n",
              "        [[0.59607843, 0.43921569, 0.2       ],\n",
              "         [0.59215686, 0.43137255, 0.15686275],\n",
              "         [0.62352941, 0.44705882, 0.17647059],\n",
              "         ...,\n",
              "         [0.53333333, 0.37254902, 0.12156863],\n",
              "         [0.49019608, 0.35686275, 0.1254902 ],\n",
              "         [0.46666667, 0.34509804, 0.13333333]],\n",
              "\n",
              "        [[0.59215686, 0.43137255, 0.18431373],\n",
              "         [0.59215686, 0.42745098, 0.12941176],\n",
              "         [0.61960784, 0.43529412, 0.14117647],\n",
              "         ...,\n",
              "         [0.54509804, 0.38431373, 0.13333333],\n",
              "         [0.50980392, 0.37254902, 0.13333333],\n",
              "         [0.47058824, 0.34901961, 0.12941176]],\n",
              "\n",
              "        ...,\n",
              "\n",
              "        [[0.26666667, 0.48627451, 0.69411765],\n",
              "         [0.16470588, 0.39215686, 0.58039216],\n",
              "         [0.12156863, 0.34509804, 0.5372549 ],\n",
              "         ...,\n",
              "         [0.14901961, 0.38039216, 0.57254902],\n",
              "         [0.05098039, 0.25098039, 0.42352941],\n",
              "         [0.15686275, 0.33333333, 0.49803922]],\n",
              "\n",
              "        [[0.23921569, 0.45490196, 0.65882353],\n",
              "         [0.19215686, 0.4       , 0.58039216],\n",
              "         [0.1372549 , 0.33333333, 0.51764706],\n",
              "         ...,\n",
              "         [0.10196078, 0.32156863, 0.50980392],\n",
              "         [0.11372549, 0.32156863, 0.49411765],\n",
              "         [0.07843137, 0.25098039, 0.41960784]],\n",
              "\n",
              "        [[0.21176471, 0.41960784, 0.62745098],\n",
              "         [0.21960784, 0.41176471, 0.58431373],\n",
              "         [0.17647059, 0.34901961, 0.51764706],\n",
              "         ...,\n",
              "         [0.09411765, 0.30196078, 0.48627451],\n",
              "         [0.13333333, 0.32941176, 0.50588235],\n",
              "         [0.08235294, 0.2627451 , 0.43137255]]],\n",
              "\n",
              "\n",
              "       [[[0.92156863, 0.92156863, 0.92156863],\n",
              "         [0.90588235, 0.90588235, 0.90588235],\n",
              "         [0.90980392, 0.90980392, 0.90980392],\n",
              "         ...,\n",
              "         [0.91372549, 0.91372549, 0.91372549],\n",
              "         [0.91372549, 0.91372549, 0.91372549],\n",
              "         [0.90980392, 0.90980392, 0.90980392]],\n",
              "\n",
              "        [[0.93333333, 0.93333333, 0.93333333],\n",
              "         [0.92156863, 0.92156863, 0.92156863],\n",
              "         [0.92156863, 0.92156863, 0.92156863],\n",
              "         ...,\n",
              "         [0.9254902 , 0.9254902 , 0.9254902 ],\n",
              "         [0.9254902 , 0.9254902 , 0.9254902 ],\n",
              "         [0.92156863, 0.92156863, 0.92156863]],\n",
              "\n",
              "        [[0.92941176, 0.92941176, 0.92941176],\n",
              "         [0.91764706, 0.91764706, 0.91764706],\n",
              "         [0.91764706, 0.91764706, 0.91764706],\n",
              "         ...,\n",
              "         [0.92156863, 0.92156863, 0.92156863],\n",
              "         [0.92156863, 0.92156863, 0.92156863],\n",
              "         [0.91764706, 0.91764706, 0.91764706]],\n",
              "\n",
              "        ...,\n",
              "\n",
              "        [[0.34117647, 0.38823529, 0.34901961],\n",
              "         [0.16862745, 0.2       , 0.14509804],\n",
              "         [0.0745098 , 0.09019608, 0.04313725],\n",
              "         ...,\n",
              "         [0.6627451 , 0.72156863, 0.70196078],\n",
              "         [0.71372549, 0.77254902, 0.75686275],\n",
              "         [0.7372549 , 0.79215686, 0.78823529]],\n",
              "\n",
              "        [[0.32156863, 0.37647059, 0.32156863],\n",
              "         [0.18039216, 0.22352941, 0.14117647],\n",
              "         [0.14117647, 0.17254902, 0.08627451],\n",
              "         ...,\n",
              "         [0.68235294, 0.74117647, 0.71764706],\n",
              "         [0.7254902 , 0.78431373, 0.76862745],\n",
              "         [0.73333333, 0.79215686, 0.78431373]],\n",
              "\n",
              "        [[0.33333333, 0.39607843, 0.3254902 ],\n",
              "         [0.24313725, 0.29411765, 0.18823529],\n",
              "         [0.22745098, 0.2627451 , 0.14901961],\n",
              "         ...,\n",
              "         [0.65882353, 0.71764706, 0.69803922],\n",
              "         [0.70588235, 0.76470588, 0.74901961],\n",
              "         [0.72941176, 0.78431373, 0.78039216]]],\n",
              "\n",
              "\n",
              "       [[[0.61960784, 0.74509804, 0.87058824],\n",
              "         [0.61960784, 0.73333333, 0.85490196],\n",
              "         [0.54509804, 0.65098039, 0.76078431],\n",
              "         ...,\n",
              "         [0.89411765, 0.90588235, 0.91764706],\n",
              "         [0.92941176, 0.9372549 , 0.95294118],\n",
              "         [0.93333333, 0.94509804, 0.96470588]],\n",
              "\n",
              "        [[0.66666667, 0.78431373, 0.89803922],\n",
              "         [0.6745098 , 0.78039216, 0.88627451],\n",
              "         [0.59215686, 0.69019608, 0.78823529],\n",
              "         ...,\n",
              "         [0.90980392, 0.90980392, 0.9254902 ],\n",
              "         [0.96470588, 0.96470588, 0.98039216],\n",
              "         [0.96470588, 0.96862745, 0.98431373]],\n",
              "\n",
              "        [[0.68235294, 0.78823529, 0.88235294],\n",
              "         [0.69019608, 0.78431373, 0.87058824],\n",
              "         [0.61568627, 0.70196078, 0.78039216],\n",
              "         ...,\n",
              "         [0.90196078, 0.89803922, 0.90980392],\n",
              "         [0.98039216, 0.97647059, 0.98431373],\n",
              "         [0.96078431, 0.95686275, 0.96862745]],\n",
              "\n",
              "        ...,\n",
              "\n",
              "        [[0.12156863, 0.15686275, 0.17647059],\n",
              "         [0.11764706, 0.15294118, 0.17254902],\n",
              "         [0.10196078, 0.1372549 , 0.15686275],\n",
              "         ...,\n",
              "         [0.14509804, 0.15686275, 0.18039216],\n",
              "         [0.03529412, 0.05098039, 0.05490196],\n",
              "         [0.01568627, 0.02745098, 0.01960784]],\n",
              "\n",
              "        [[0.09019608, 0.13333333, 0.15294118],\n",
              "         [0.10588235, 0.14901961, 0.16862745],\n",
              "         [0.09803922, 0.14117647, 0.16078431],\n",
              "         ...,\n",
              "         [0.0745098 , 0.07843137, 0.09411765],\n",
              "         [0.01568627, 0.02352941, 0.01176471],\n",
              "         [0.01960784, 0.02745098, 0.01176471]],\n",
              "\n",
              "        [[0.10980392, 0.16078431, 0.18431373],\n",
              "         [0.11764706, 0.16862745, 0.19607843],\n",
              "         [0.1254902 , 0.17647059, 0.20392157],\n",
              "         ...,\n",
              "         [0.01960784, 0.02352941, 0.03137255],\n",
              "         [0.01568627, 0.01960784, 0.01176471],\n",
              "         [0.02745098, 0.03137255, 0.02745098]]],\n",
              "\n",
              "\n",
              "       ...,\n",
              "\n",
              "\n",
              "       [[[0.07843137, 0.05882353, 0.04705882],\n",
              "         [0.0745098 , 0.05490196, 0.04313725],\n",
              "         [0.05882353, 0.05490196, 0.04313725],\n",
              "         ...,\n",
              "         [0.03921569, 0.03529412, 0.02745098],\n",
              "         [0.04705882, 0.04313725, 0.03529412],\n",
              "         [0.05098039, 0.04705882, 0.03921569]],\n",
              "\n",
              "        [[0.08235294, 0.0627451 , 0.05098039],\n",
              "         [0.07843137, 0.0627451 , 0.05098039],\n",
              "         [0.07058824, 0.06666667, 0.04705882],\n",
              "         ...,\n",
              "         [0.03921569, 0.03529412, 0.02745098],\n",
              "         [0.03921569, 0.03529412, 0.02745098],\n",
              "         [0.04705882, 0.04313725, 0.03529412]],\n",
              "\n",
              "        [[0.08235294, 0.0627451 , 0.05098039],\n",
              "         [0.08235294, 0.06666667, 0.04705882],\n",
              "         [0.07843137, 0.07058824, 0.04313725],\n",
              "         ...,\n",
              "         [0.04705882, 0.04313725, 0.03529412],\n",
              "         [0.04705882, 0.04313725, 0.03529412],\n",
              "         [0.05098039, 0.04705882, 0.03921569]],\n",
              "\n",
              "        ...,\n",
              "\n",
              "        [[0.12941176, 0.09803922, 0.05098039],\n",
              "         [0.13333333, 0.10196078, 0.05882353],\n",
              "         [0.13333333, 0.10196078, 0.05882353],\n",
              "         ...,\n",
              "         [0.10980392, 0.09803922, 0.20392157],\n",
              "         [0.11372549, 0.09803922, 0.22745098],\n",
              "         [0.09019608, 0.07843137, 0.16470588]],\n",
              "\n",
              "        [[0.12941176, 0.09803922, 0.05490196],\n",
              "         [0.13333333, 0.10196078, 0.05882353],\n",
              "         [0.13333333, 0.10196078, 0.05882353],\n",
              "         ...,\n",
              "         [0.10588235, 0.09411765, 0.20392157],\n",
              "         [0.10588235, 0.09411765, 0.21960784],\n",
              "         [0.09803922, 0.08627451, 0.18431373]],\n",
              "\n",
              "        [[0.12156863, 0.09019608, 0.04705882],\n",
              "         [0.1254902 , 0.09411765, 0.05098039],\n",
              "         [0.12941176, 0.09803922, 0.05490196],\n",
              "         ...,\n",
              "         [0.09411765, 0.09019608, 0.19607843],\n",
              "         [0.10196078, 0.09019608, 0.20784314],\n",
              "         [0.09803922, 0.07843137, 0.18431373]]],\n",
              "\n",
              "\n",
              "       [[[0.09803922, 0.15686275, 0.04705882],\n",
              "         [0.05882353, 0.14117647, 0.01176471],\n",
              "         [0.09019608, 0.16078431, 0.07058824],\n",
              "         ...,\n",
              "         [0.23921569, 0.32156863, 0.30588235],\n",
              "         [0.36078431, 0.44313725, 0.43921569],\n",
              "         [0.29411765, 0.34901961, 0.36078431]],\n",
              "\n",
              "        [[0.04705882, 0.09803922, 0.02352941],\n",
              "         [0.07843137, 0.14509804, 0.02745098],\n",
              "         [0.09411765, 0.14117647, 0.05882353],\n",
              "         ...,\n",
              "         [0.45098039, 0.5254902 , 0.54117647],\n",
              "         [0.58431373, 0.65882353, 0.69411765],\n",
              "         [0.40784314, 0.45882353, 0.51372549]],\n",
              "\n",
              "        [[0.04705882, 0.09803922, 0.04313725],\n",
              "         [0.05882353, 0.11372549, 0.02352941],\n",
              "         [0.13333333, 0.15686275, 0.09411765],\n",
              "         ...,\n",
              "         [0.60392157, 0.6745098 , 0.71372549],\n",
              "         [0.61568627, 0.68627451, 0.75294118],\n",
              "         [0.45490196, 0.50588235, 0.59215686]],\n",
              "\n",
              "        ...,\n",
              "\n",
              "        [[0.39215686, 0.50588235, 0.31764706],\n",
              "         [0.40392157, 0.51764706, 0.32941176],\n",
              "         [0.40784314, 0.5254902 , 0.3372549 ],\n",
              "         ...,\n",
              "         [0.38039216, 0.50196078, 0.32941176],\n",
              "         [0.38431373, 0.49411765, 0.32941176],\n",
              "         [0.35686275, 0.4745098 , 0.30980392]],\n",
              "\n",
              "        [[0.40392157, 0.51764706, 0.3254902 ],\n",
              "         [0.40784314, 0.51372549, 0.3254902 ],\n",
              "         [0.41960784, 0.52941176, 0.34117647],\n",
              "         ...,\n",
              "         [0.39607843, 0.51764706, 0.34117647],\n",
              "         [0.38823529, 0.49803922, 0.32941176],\n",
              "         [0.36078431, 0.4745098 , 0.30980392]],\n",
              "\n",
              "        [[0.37254902, 0.49411765, 0.30588235],\n",
              "         [0.37254902, 0.48235294, 0.29803922],\n",
              "         [0.39607843, 0.50196078, 0.31764706],\n",
              "         ...,\n",
              "         [0.36470588, 0.48627451, 0.31372549],\n",
              "         [0.37254902, 0.48235294, 0.31764706],\n",
              "         [0.36078431, 0.47058824, 0.31372549]]],\n",
              "\n",
              "\n",
              "       [[[0.28627451, 0.30588235, 0.29411765],\n",
              "         [0.38431373, 0.40392157, 0.44313725],\n",
              "         [0.38823529, 0.41568627, 0.44705882],\n",
              "         ...,\n",
              "         [0.52941176, 0.58823529, 0.59607843],\n",
              "         [0.52941176, 0.58431373, 0.60392157],\n",
              "         [0.79607843, 0.84313725, 0.8745098 ]],\n",
              "\n",
              "        [[0.27058824, 0.28627451, 0.2745098 ],\n",
              "         [0.32941176, 0.34901961, 0.38039216],\n",
              "         [0.26666667, 0.29411765, 0.31764706],\n",
              "         ...,\n",
              "         [0.33333333, 0.37254902, 0.34901961],\n",
              "         [0.27843137, 0.32156863, 0.31372549],\n",
              "         [0.47058824, 0.52156863, 0.52941176]],\n",
              "\n",
              "        [[0.27058824, 0.28627451, 0.2745098 ],\n",
              "         [0.35294118, 0.37254902, 0.39215686],\n",
              "         [0.24313725, 0.27843137, 0.29019608],\n",
              "         ...,\n",
              "         [0.29019608, 0.31764706, 0.2745098 ],\n",
              "         [0.20784314, 0.24313725, 0.21176471],\n",
              "         [0.24313725, 0.29019608, 0.27058824]],\n",
              "\n",
              "        ...,\n",
              "\n",
              "        [[0.48235294, 0.50196078, 0.37647059],\n",
              "         [0.51764706, 0.51764706, 0.4       ],\n",
              "         [0.50588235, 0.50196078, 0.39215686],\n",
              "         ...,\n",
              "         [0.42352941, 0.41960784, 0.34509804],\n",
              "         [0.24313725, 0.23529412, 0.21568627],\n",
              "         [0.10588235, 0.10588235, 0.10980392]],\n",
              "\n",
              "        [[0.45098039, 0.4745098 , 0.35686275],\n",
              "         [0.48235294, 0.48627451, 0.37254902],\n",
              "         [0.50588235, 0.49411765, 0.38823529],\n",
              "         ...,\n",
              "         [0.45098039, 0.45490196, 0.36862745],\n",
              "         [0.25882353, 0.25490196, 0.23137255],\n",
              "         [0.10588235, 0.10588235, 0.10588235]],\n",
              "\n",
              "        [[0.45490196, 0.47058824, 0.35294118],\n",
              "         [0.4745098 , 0.47843137, 0.36862745],\n",
              "         [0.50588235, 0.50196078, 0.39607843],\n",
              "         ...,\n",
              "         [0.45490196, 0.45098039, 0.36862745],\n",
              "         [0.26666667, 0.25490196, 0.22745098],\n",
              "         [0.10588235, 0.10196078, 0.10196078]]]])"
            ]
          },
          "metadata": {},
          "execution_count": 24
        }
      ]
    },
    {
      "cell_type": "code",
      "source": [
        "y_train_catagorical=keras.utils.to_categorical(\n",
        "    y_train , num_classes=10 , dtype='float32'\n",
        ")\n",
        "y_train_catagorical[0:5]"
      ],
      "metadata": {
        "colab": {
          "base_uri": "https://localhost:8080/"
        },
        "id": "sHn9MP50TTx-",
        "outputId": "4ef9aefe-b7a6-429f-dd99-11f6a6482565"
      },
      "execution_count": 25,
      "outputs": [
        {
          "output_type": "execute_result",
          "data": {
            "text/plain": [
              "array([[0., 0., 0., 0., 0., 0., 1., 0., 0., 0.],\n",
              "       [0., 0., 0., 0., 0., 0., 0., 0., 0., 1.],\n",
              "       [0., 0., 0., 0., 0., 0., 0., 0., 0., 1.],\n",
              "       [0., 0., 0., 0., 1., 0., 0., 0., 0., 0.],\n",
              "       [0., 1., 0., 0., 0., 0., 0., 0., 0., 0.]], dtype=float32)"
            ]
          },
          "metadata": {},
          "execution_count": 25
        }
      ]
    },
    {
      "cell_type": "code",
      "source": [
        "y_test_catagorical=keras.utils.to_categorical(\n",
        "    y_test , num_classes=10 , dtype='float32'\n",
        ")"
      ],
      "metadata": {
        "id": "qCzh5PFjT5Tr"
      },
      "execution_count": 26,
      "outputs": []
    },
    {
      "cell_type": "code",
      "source": [
        "x_train.shape"
      ],
      "metadata": {
        "colab": {
          "base_uri": "https://localhost:8080/"
        },
        "id": "b5P9-wzJWwl8",
        "outputId": "58dae473-d4ed-425a-e7e6-69e14dd7faee"
      },
      "execution_count": 27,
      "outputs": [
        {
          "output_type": "execute_result",
          "data": {
            "text/plain": [
              "(50000, 32, 32, 3)"
            ]
          },
          "metadata": {},
          "execution_count": 27
        }
      ]
    },
    {
      "cell_type": "code",
      "source": [
        "model=keras.Sequential([\n",
        "    keras.layers.Flatten(input_shape=(32, 32, 3)),\n",
        "    keras.layers.Dense(3000 , activation='relu'),\n",
        "    keras.layers.Dense(2000 , activation='relu'),\n",
        "    keras.layers.Dense(1000 , activation='relu'),\n",
        "    keras.layers.Dense(10 , activation='sigmoid')\n",
        "])\n",
        "model.compile(optimizer='SGD',\n",
        "    loss='categorical_crossentropy',\n",
        "    metrics=['accuracy'])\n",
        "\n",
        "model.fit(x_train_scaled, y_train_catagorical, epochs=100)"
      ],
      "metadata": {
        "colab": {
          "base_uri": "https://localhost:8080/"
        },
        "id": "akFxZ9-TUPw3",
        "outputId": "f951266e-fa68-4196-adf5-60b4d47ef5e0"
      },
      "execution_count": 37,
      "outputs": [
        {
          "output_type": "stream",
          "name": "stdout",
          "text": [
            "Epoch 1/100\n",
            "1563/1563 [==============================] - 11s 6ms/step - loss: 1.8109 - accuracy: 0.3535\n",
            "Epoch 2/100\n",
            "1563/1563 [==============================] - 9s 6ms/step - loss: 1.6169 - accuracy: 0.4283\n",
            "Epoch 3/100\n",
            "1563/1563 [==============================] - 10s 6ms/step - loss: 1.5281 - accuracy: 0.4569\n",
            "Epoch 4/100\n",
            "1563/1563 [==============================] - 10s 6ms/step - loss: 1.4633 - accuracy: 0.4813\n",
            "Epoch 5/100\n",
            "1563/1563 [==============================] - 10s 6ms/step - loss: 1.4125 - accuracy: 0.4995\n",
            "Epoch 6/100\n",
            "1563/1563 [==============================] - 9s 6ms/step - loss: 1.3620 - accuracy: 0.5184\n",
            "Epoch 7/100\n",
            "1563/1563 [==============================] - 10s 6ms/step - loss: 1.3197 - accuracy: 0.5370\n",
            "Epoch 8/100\n",
            "1563/1563 [==============================] - 10s 6ms/step - loss: 1.2812 - accuracy: 0.5470\n",
            "Epoch 9/100\n",
            "1563/1563 [==============================] - 10s 6ms/step - loss: 1.2410 - accuracy: 0.5622\n",
            "Epoch 10/100\n",
            "1563/1563 [==============================] - 10s 6ms/step - loss: 1.2070 - accuracy: 0.5754\n",
            "Epoch 11/100\n",
            "1563/1563 [==============================] - 9s 6ms/step - loss: 1.1723 - accuracy: 0.5869\n",
            "Epoch 12/100\n",
            "1563/1563 [==============================] - 10s 6ms/step - loss: 1.1352 - accuracy: 0.6008\n",
            "Epoch 13/100\n",
            "1563/1563 [==============================] - 10s 6ms/step - loss: 1.1011 - accuracy: 0.6138\n",
            "Epoch 14/100\n",
            "1563/1563 [==============================] - 10s 6ms/step - loss: 1.0700 - accuracy: 0.6240\n",
            "Epoch 15/100\n",
            "1563/1563 [==============================] - 10s 6ms/step - loss: 1.0352 - accuracy: 0.6355\n",
            "Epoch 16/100\n",
            "1563/1563 [==============================] - 9s 6ms/step - loss: 1.0010 - accuracy: 0.6493\n",
            "Epoch 17/100\n",
            "1563/1563 [==============================] - 10s 6ms/step - loss: 0.9681 - accuracy: 0.6602\n",
            "Epoch 18/100\n",
            "1563/1563 [==============================] - 10s 6ms/step - loss: 0.9359 - accuracy: 0.6730\n",
            "Epoch 19/100\n",
            "1563/1563 [==============================] - 10s 6ms/step - loss: 0.8990 - accuracy: 0.6847\n",
            "Epoch 20/100\n",
            "1563/1563 [==============================] - 10s 6ms/step - loss: 0.8649 - accuracy: 0.6980\n",
            "Epoch 21/100\n",
            "1563/1563 [==============================] - 9s 6ms/step - loss: 0.8345 - accuracy: 0.7067\n",
            "Epoch 22/100\n",
            "1563/1563 [==============================] - 10s 6ms/step - loss: 0.8000 - accuracy: 0.7201\n",
            "Epoch 23/100\n",
            "1563/1563 [==============================] - 10s 6ms/step - loss: 0.7618 - accuracy: 0.7351\n",
            "Epoch 24/100\n",
            "1563/1563 [==============================] - 10s 6ms/step - loss: 0.7267 - accuracy: 0.7461\n",
            "Epoch 25/100\n",
            "1563/1563 [==============================] - 10s 6ms/step - loss: 0.6942 - accuracy: 0.7581\n",
            "Epoch 26/100\n",
            "1563/1563 [==============================] - 9s 6ms/step - loss: 0.6574 - accuracy: 0.7730\n",
            "Epoch 27/100\n",
            "1563/1563 [==============================] - 10s 6ms/step - loss: 0.6288 - accuracy: 0.7832\n",
            "Epoch 28/100\n",
            "1563/1563 [==============================] - 10s 6ms/step - loss: 0.5914 - accuracy: 0.7972\n",
            "Epoch 29/100\n",
            "1563/1563 [==============================] - 10s 6ms/step - loss: 0.5628 - accuracy: 0.8058\n",
            "Epoch 30/100\n",
            "1563/1563 [==============================] - 10s 6ms/step - loss: 0.5286 - accuracy: 0.8186\n",
            "Epoch 31/100\n",
            "1563/1563 [==============================] - 10s 6ms/step - loss: 0.4968 - accuracy: 0.8313\n",
            "Epoch 32/100\n",
            "1563/1563 [==============================] - 10s 6ms/step - loss: 0.4637 - accuracy: 0.8430\n",
            "Epoch 33/100\n",
            "1563/1563 [==============================] - 10s 6ms/step - loss: 0.4377 - accuracy: 0.8516\n",
            "Epoch 34/100\n",
            "1563/1563 [==============================] - 10s 6ms/step - loss: 0.4010 - accuracy: 0.8649\n",
            "Epoch 35/100\n",
            "1563/1563 [==============================] - 9s 6ms/step - loss: 0.3776 - accuracy: 0.8736\n",
            "Epoch 36/100\n",
            "1563/1563 [==============================] - 10s 6ms/step - loss: 0.3507 - accuracy: 0.8834\n",
            "Epoch 37/100\n",
            "1563/1563 [==============================] - 10s 6ms/step - loss: 0.3248 - accuracy: 0.8924\n",
            "Epoch 38/100\n",
            "1563/1563 [==============================] - 10s 6ms/step - loss: 0.2984 - accuracy: 0.9030\n",
            "Epoch 39/100\n",
            "1563/1563 [==============================] - 9s 6ms/step - loss: 0.2796 - accuracy: 0.9079\n",
            "Epoch 40/100\n",
            "1563/1563 [==============================] - 9s 6ms/step - loss: 0.2543 - accuracy: 0.9173\n",
            "Epoch 41/100\n",
            "1563/1563 [==============================] - 10s 6ms/step - loss: 0.2374 - accuracy: 0.9233\n",
            "Epoch 42/100\n",
            "1563/1563 [==============================] - 10s 6ms/step - loss: 0.2189 - accuracy: 0.9294\n",
            "Epoch 43/100\n",
            "1563/1563 [==============================] - 10s 6ms/step - loss: 0.1959 - accuracy: 0.9391\n",
            "Epoch 44/100\n",
            "1563/1563 [==============================] - 9s 6ms/step - loss: 0.1865 - accuracy: 0.9408\n",
            "Epoch 45/100\n",
            "1563/1563 [==============================] - 10s 6ms/step - loss: 0.1641 - accuracy: 0.9504\n",
            "Epoch 46/100\n",
            "1563/1563 [==============================] - 10s 6ms/step - loss: 0.1493 - accuracy: 0.9555\n",
            "Epoch 47/100\n",
            "1563/1563 [==============================] - 10s 6ms/step - loss: 0.1250 - accuracy: 0.9650\n",
            "Epoch 48/100\n",
            "1563/1563 [==============================] - 9s 6ms/step - loss: 0.1168 - accuracy: 0.9664\n",
            "Epoch 49/100\n",
            "1563/1563 [==============================] - 9s 6ms/step - loss: 0.1096 - accuracy: 0.9686\n",
            "Epoch 50/100\n",
            "1563/1563 [==============================] - 10s 6ms/step - loss: 0.0990 - accuracy: 0.9726\n",
            "Epoch 51/100\n",
            "1563/1563 [==============================] - 10s 6ms/step - loss: 0.0880 - accuracy: 0.9761\n",
            "Epoch 52/100\n",
            "1563/1563 [==============================] - 10s 6ms/step - loss: 0.0904 - accuracy: 0.9744\n",
            "Epoch 53/100\n",
            "1563/1563 [==============================] - 10s 6ms/step - loss: 0.0785 - accuracy: 0.9784\n",
            "Epoch 54/100\n",
            "1563/1563 [==============================] - 10s 6ms/step - loss: 0.0829 - accuracy: 0.9782\n",
            "Epoch 55/100\n",
            "1563/1563 [==============================] - 10s 6ms/step - loss: 0.0882 - accuracy: 0.9760\n",
            "Epoch 56/100\n",
            "1563/1563 [==============================] - 10s 6ms/step - loss: 0.0482 - accuracy: 0.9887\n",
            "Epoch 57/100\n",
            "1563/1563 [==============================] - 10s 6ms/step - loss: 0.0520 - accuracy: 0.9877\n",
            "Epoch 58/100\n",
            "1563/1563 [==============================] - 9s 6ms/step - loss: 0.0548 - accuracy: 0.9861\n",
            "Epoch 59/100\n",
            "1563/1563 [==============================] - 10s 6ms/step - loss: 0.0272 - accuracy: 0.9946\n",
            "Epoch 60/100\n",
            "1563/1563 [==============================] - 10s 6ms/step - loss: 0.0617 - accuracy: 0.9831\n",
            "Epoch 61/100\n",
            "1563/1563 [==============================] - 10s 6ms/step - loss: 0.0290 - accuracy: 0.9946\n",
            "Epoch 62/100\n",
            "1563/1563 [==============================] - 10s 6ms/step - loss: 0.0248 - accuracy: 0.9948\n",
            "Epoch 63/100\n",
            "1563/1563 [==============================] - 10s 6ms/step - loss: 0.0152 - accuracy: 0.9974\n",
            "Epoch 64/100\n",
            "1563/1563 [==============================] - 11s 7ms/step - loss: 0.0260 - accuracy: 0.9942\n",
            "Epoch 65/100\n",
            "1563/1563 [==============================] - 11s 7ms/step - loss: 0.0627 - accuracy: 0.9845\n",
            "Epoch 66/100\n",
            "1563/1563 [==============================] - 10s 6ms/step - loss: 0.0129 - accuracy: 0.9982\n",
            "Epoch 67/100\n",
            "1563/1563 [==============================] - 10s 7ms/step - loss: 0.0082 - accuracy: 0.9991\n",
            "Epoch 68/100\n",
            "1563/1563 [==============================] - 10s 6ms/step - loss: 0.0068 - accuracy: 0.9993\n",
            "Epoch 69/100\n",
            "1563/1563 [==============================] - 11s 7ms/step - loss: 0.0056 - accuracy: 0.9995\n",
            "Epoch 70/100\n",
            "1563/1563 [==============================] - 10s 6ms/step - loss: 0.0056 - accuracy: 0.9994\n",
            "Epoch 71/100\n",
            "1563/1563 [==============================] - 10s 6ms/step - loss: 0.0041 - accuracy: 0.9998\n",
            "Epoch 72/100\n",
            "1563/1563 [==============================] - 10s 6ms/step - loss: 0.0044 - accuracy: 0.9995\n",
            "Epoch 73/100\n",
            "1563/1563 [==============================] - 10s 6ms/step - loss: 0.0033 - accuracy: 0.9999\n",
            "Epoch 74/100\n",
            "1563/1563 [==============================] - 10s 6ms/step - loss: 0.0033 - accuracy: 0.9999\n",
            "Epoch 75/100\n",
            "1563/1563 [==============================] - 10s 6ms/step - loss: 0.0025 - accuracy: 0.9999\n",
            "Epoch 76/100\n",
            "1563/1563 [==============================] - 9s 6ms/step - loss: 0.0024 - accuracy: 0.9999\n",
            "Epoch 77/100\n",
            "1563/1563 [==============================] - 10s 7ms/step - loss: 0.0029 - accuracy: 0.9998\n",
            "Epoch 78/100\n",
            "1563/1563 [==============================] - 11s 7ms/step - loss: 0.0026 - accuracy: 0.9999\n",
            "Epoch 79/100\n",
            "1563/1563 [==============================] - 10s 7ms/step - loss: 0.0023 - accuracy: 0.9998\n",
            "Epoch 80/100\n",
            "1563/1563 [==============================] - 10s 6ms/step - loss: 0.0024 - accuracy: 0.9999\n",
            "Epoch 81/100\n",
            "1563/1563 [==============================] - 10s 7ms/step - loss: 0.0018 - accuracy: 1.0000\n",
            "Epoch 82/100\n",
            "1563/1563 [==============================] - 10s 6ms/step - loss: 0.0016 - accuracy: 1.0000\n",
            "Epoch 83/100\n",
            "1563/1563 [==============================] - 11s 7ms/step - loss: 0.0016 - accuracy: 1.0000\n",
            "Epoch 84/100\n",
            "1563/1563 [==============================] - 11s 7ms/step - loss: 0.0023 - accuracy: 0.9998\n",
            "Epoch 85/100\n",
            "1563/1563 [==============================] - 10s 7ms/step - loss: 0.0016 - accuracy: 1.0000\n",
            "Epoch 86/100\n",
            "1563/1563 [==============================] - 11s 7ms/step - loss: 0.0014 - accuracy: 1.0000\n",
            "Epoch 87/100\n",
            "1563/1563 [==============================] - 10s 6ms/step - loss: 0.0014 - accuracy: 1.0000\n",
            "Epoch 88/100\n",
            "1563/1563 [==============================] - 10s 7ms/step - loss: 0.0013 - accuracy: 1.0000\n",
            "Epoch 89/100\n",
            "1563/1563 [==============================] - 10s 7ms/step - loss: 0.0013 - accuracy: 1.0000\n",
            "Epoch 90/100\n",
            "1563/1563 [==============================] - 10s 6ms/step - loss: 0.0013 - accuracy: 1.0000\n",
            "Epoch 91/100\n",
            "1563/1563 [==============================] - 10s 7ms/step - loss: 0.0012 - accuracy: 1.0000\n",
            "Epoch 92/100\n",
            "1563/1563 [==============================] - 10s 6ms/step - loss: 0.0011 - accuracy: 1.0000\n",
            "Epoch 93/100\n",
            "1563/1563 [==============================] - 10s 7ms/step - loss: 0.0012 - accuracy: 1.0000\n",
            "Epoch 94/100\n",
            "1563/1563 [==============================] - 10s 7ms/step - loss: 0.0011 - accuracy: 1.0000\n",
            "Epoch 95/100\n",
            "1563/1563 [==============================] - 10s 6ms/step - loss: 0.0011 - accuracy: 1.0000\n",
            "Epoch 96/100\n",
            "1563/1563 [==============================] - 10s 6ms/step - loss: 0.0010 - accuracy: 1.0000\n",
            "Epoch 97/100\n",
            "1563/1563 [==============================] - 9s 6ms/step - loss: 0.0010 - accuracy: 1.0000\n",
            "Epoch 98/100\n",
            "1563/1563 [==============================] - 10s 6ms/step - loss: 9.9112e-04 - accuracy: 1.0000\n",
            "Epoch 99/100\n",
            "1563/1563 [==============================] - 10s 6ms/step - loss: 9.6282e-04 - accuracy: 1.0000\n",
            "Epoch 100/100\n",
            "1563/1563 [==============================] - 10s 6ms/step - loss: 9.4575e-04 - accuracy: 1.0000\n"
          ]
        },
        {
          "output_type": "execute_result",
          "data": {
            "text/plain": [
              "<keras.src.callbacks.History at 0x7dbcfc3036a0>"
            ]
          },
          "metadata": {},
          "execution_count": 37
        }
      ]
    },
    {
      "cell_type": "code",
      "source": [
        "model.evaluate(x_test_scaled , y_test_catagorical)"
      ],
      "metadata": {
        "colab": {
          "base_uri": "https://localhost:8080/"
        },
        "id": "lwTom1LHcwfr",
        "outputId": "9ca62d49-05ce-42d3-8f3b-f8bb612e21fe"
      },
      "execution_count": 36,
      "outputs": [
        {
          "output_type": "stream",
          "name": "stdout",
          "text": [
            "313/313 [==============================] - 1s 3ms/step - loss: 2.1262 - accuracy: 0.5859\n"
          ]
        },
        {
          "output_type": "execute_result",
          "data": {
            "text/plain": [
              "[2.1262366771698, 0.5859000086784363]"
            ]
          },
          "metadata": {},
          "execution_count": 36
        }
      ]
    },
    {
      "cell_type": "code",
      "source": [],
      "metadata": {
        "id": "J8DCaDjeohg3"
      },
      "execution_count": null,
      "outputs": []
    }
  ]
}